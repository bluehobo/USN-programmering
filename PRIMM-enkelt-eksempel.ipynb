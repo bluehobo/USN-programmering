{
 "cells": [
  {
   "cell_type": "markdown",
   "id": "31471f2f-4451-4fa8-a5f8-039b5208ac0c",
   "metadata": {},
   "source": [
    "# Mysteriefunksjon"
   ]
  },
  {
   "cell_type": "markdown",
   "id": "b42a7f5d-aced-4248-b138-7f1fe212d81b",
   "metadata": {},
   "source": [
    "Hva tror du funksjonen mysterie() gjør? Tegn i skriveboka di med farger"
   ]
  },
  {
   "cell_type": "code",
   "execution_count": null,
   "id": "27f2c5aa-111a-4d3f-a9c0-ceb125d7dddd",
   "metadata": {},
   "outputs": [],
   "source": [
    "! pip install turtle\n",
    "\n",
    "import turtle as t\n",
    "\n",
    "def mysterie():\n",
    "    t.fillcolor(\"Green\")\n",
    "    t.begin_fill()\n",
    "    t.pencolor(\"Red\")\n",
    "    t.forward(100)\n",
    "    t.right(90)\n",
    "    t.forward(100)\n",
    "    t.right(90)\n",
    "    t.forward(100)\n",
    "    t.right(90)\n",
    "    t.forward(100)\n",
    "    t.end_fill()\n",
    "    \n",
    "mysterie()"
   ]
  },
  {
   "cell_type": "markdown",
   "id": "c44d134e-fcaf-467e-8189-6079975b8c79",
   "metadata": {},
   "source": [
    "Kan du endre på koden over slik at det blir tegnet en trekant istedet?"
   ]
  },
  {
   "cell_type": "markdown",
   "id": "5a0e8bca-2620-4e2c-8b53-32fc646469f7",
   "metadata": {},
   "source": [
    "(Hvis du kan skrive sløyfer, kan du bruke en for-sløyfe til å lage koden mer effektiv?) Bruk gjerne kodevinduet over, eller lag ett nytt kodevindu under"
   ]
  },
  {
   "cell_type": "code",
   "execution_count": null,
   "id": "514b0cda-5807-4559-832f-31bf1d8b72cb",
   "metadata": {},
   "outputs": [],
   "source": []
  }
 ],
 "metadata": {
  "kernelspec": {
   "display_name": "Python 3 (ipykernel)",
   "language": "python",
   "name": "python3"
  },
  "language_info": {
   "codemirror_mode": {
    "name": "ipython",
    "version": 3
   },
   "file_extension": ".py",
   "mimetype": "text/x-python",
   "name": "python",
   "nbconvert_exporter": "python",
   "pygments_lexer": "ipython3",
   "version": "3.8.12"
  }
 },
 "nbformat": 4,
 "nbformat_minor": 5
}
