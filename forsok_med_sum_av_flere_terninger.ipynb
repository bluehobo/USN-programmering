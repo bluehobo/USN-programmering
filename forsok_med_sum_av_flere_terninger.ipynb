{
 "cells": [
  {
   "cell_type": "markdown",
   "id": "92a51569-fe59-4487-a471-afe747f7fb15",
   "metadata": {
    "tags": []
   },
   "source": [
    "# Forsøk med mange terninger - normalfordeling"
   ]
  },
  {
   "cell_type": "markdown",
   "id": "f42b2a47-298d-490a-acc4-7574aa4b4d79",
   "metadata": {},
   "source": [
    "Ved første kjøring må det installeres noen biblioteker. Det tar litt tid, så vær tålmodig"
   ]
  },
  {
   "cell_type": "code",
   "execution_count": null,
   "id": "c507cca3-71c2-49f5-b0c7-529783f275ba",
   "metadata": {},
   "outputs": [],
   "source": [
    "! pip install numpy\n",
    "! pip install matplotlib"
   ]
  },
  {
   "cell_type": "code",
   "execution_count": 5,
   "id": "1f408005-d8c6-4f55-9667-7285955b0d37",
   "metadata": {},
   "outputs": [
    {
     "name": "stdout",
     "output_type": "stream",
     "text": [
      "Antall terninger: 100\n",
      "Antall forsøk: 100000\n"
     ]
    },
    {
     "data": {
      "image/png": "[encoded data removed]",
      "text/plain": [
       "<Figure size 432x288 with 1 Axes>"
      ]
     },
     "metadata": {
      "needs_background": "light"
     },
     "output_type": "display_data"
    }
   ],
   "source": [
    "# -*- coding: utf-8 -*-\n",
    "\"\"\"\n",
    "Created on Mon Feb 28 00:53:24 2022\n",
    "\n",
    "@author: sigur\n",
    "\"\"\"\n",
    "\n",
    "import random\n",
    "import numpy as np\n",
    "import matplotlib.pyplot as plt\n",
    "\n",
    "# setter opp terning og antall kast. Endre på disse parameterene!\n",
    "sider = 6\n",
    "antall_terninger = 100\n",
    "antall_forsok = 100000\n",
    "\n",
    "# Regner ut antall mulige utfall, fra minste mulige verdi til største mulige verdi)\n",
    "antall_mulige_utfall = antall_terninger * sider - (antall_terninger-1)\n",
    "\n",
    "# Tabell for å registrere antall forekomster av hvert forsøk\n",
    "fordeling = np.zeros(antall_mulige_utfall)\n",
    "\n",
    "# kaster terningen, husker sum og antall forekomster\n",
    "for i in range (antall_forsok):\n",
    "    sum=0\n",
    "    \n",
    "    for j in range(antall_terninger):\n",
    "        sum += random.randint(1, sider)\n",
    "    \n",
    "    fordeling[sum-antall_terninger]+=1\n",
    "\n",
    "print(\"Antall terninger: \" + str(antall_terninger))\n",
    "print(\"Antall forsøk: \" + str(antall_forsok))\n",
    "    \n",
    "# Lager et søylediagram over relativ frekvens for alle forsøkene\n",
    "relativ_frekvens = fordeling/antall_forsok\n",
    "akse = np.linspace(antall_terninger, antall_mulige_utfall+antall_terninger-1, antall_mulige_utfall)\n",
    "\n",
    "fig = plt.figure()\n",
    "ax = fig.add_axes([0,0,1,1])\n",
    "ax.bar(akse,relativ_frekvens)\n",
    "plt.title(\"Relativ frekvens for summen av \" + str(antall_terninger) + \" terninger, ved \" + str(antall_forsok) + \" forsøk\" )\n",
    "plt.xlabel(\"sum\")\n",
    "plt.ylabel(\"relativ frekvens\")\n",
    "plt.show()"
   ]
  },
  {
   "cell_type": "code",
   "execution_count": null,
   "id": "c444e4d7-98a9-4313-894e-328802180933",
   "metadata": {},
   "outputs": [],
   "source": []
  }
 ],
 "metadata": {
  "kernelspec": {
   "display_name": "Python 3 (ipykernel)",
   "language": "python",
   "name": "python3"
  },
  "language_info": {
   "codemirror_mode": {
    "name": "ipython",
    "version": 3
   },
   "file_extension": ".py",
   "mimetype": "text/x-python",
   "name": "python",
   "nbconvert_exporter": "python",
   "pygments_lexer": "ipython3",
   "version": "3.8.12"
  }
 },
 "nbformat": 4,
 "nbformat_minor": 5
}
